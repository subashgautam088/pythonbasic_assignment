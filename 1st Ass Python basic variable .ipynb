{
 "cells": [
  {
   "cell_type": "markdown",
   "id": "59a35619-c9d1-4e9a-be15-5009949ee43d",
   "metadata": {},
   "source": [
    "## Topic: Python Basics Variables Answers"
   ]
  },
  {
   "cell_type": "code",
   "execution_count": null,
   "id": "51a02b22-57f4-4441-82f5-e664b80f6366",
   "metadata": {},
   "outputs": [],
   "source": [
    "x=4\n",
    "y=5\n",
    "x,y = y,x\n",
    "# Now 'x' will hold the 5 and \"y\" will hold 4\n",
    "x,y"
   ]
  },
  {
   "cell_type": "code",
   "execution_count": null,
   "id": "3930086d-70de-4c76-b8c2-1ac4560a6c30",
   "metadata": {},
   "outputs": [],
   "source": [
    "##### Taking length and width of rectangle from user\n",
    "length =float(input(\"Enter the length of rectangle: \"))\n",
    "width=float(input(\"Enter the width of rectangle: \"))\n",
    "#Now calculate the area of the rectangle\n",
    "area=length*width\n",
    "#Display the area\n",
    "area"
   ]
  },
  {
   "cell_type": "code",
   "execution_count": null,
   "id": "e9bbb5e7-0098-443b-9ceb-c1e134e7ba97",
   "metadata": {},
   "outputs": [],
   "source": [
    "#Taking temperature from the user in celsius degree\n",
    "temperature_1=float(input(\"Enter the temperature in celsius: \"))\n",
    "#Convert celsius into fahrenheit degree\n",
    "temperature_2=(temperature*9/5) + 32\n",
    "#Now dispalying the temperature in fahrenheit degree\n",
    "temperature_2"
   ]
  },
  {
   "cell_type": "markdown",
   "id": "2c16fd3c-cd77-4226-b715-3b8137c504e7",
   "metadata": {},
   "source": [
    "## Topic: String Based Questions Answers"
   ]
  },
  {
   "cell_type": "code",
   "execution_count": null,
   "id": "d5c5acba-599d-45f9-8728-af57be99bffb",
   "metadata": {},
   "outputs": [],
   "source": [
    "#Taking input from the user as a string\n",
    "string=input(\"Enter a string: \")\n",
    "#Print the length of string\n",
    "print(len(string))"
   ]
  },
  {
   "cell_type": "code",
   "execution_count": null,
   "id": "fc78e2ce-7887-4e38-879f-cd2e84ee5cf0",
   "metadata": {},
   "outputs": [],
   "source": [
    "#Taking a sentence from the user\n",
    "sentence = input(\"Enter a sentence: \")\n",
    "#Declare a variable for \n",
    "vowel_counting = 0\n",
    "vowels = set(\"aeiouAEIOU\")\n",
    "#Using for loop for iteration of character from the sentence\n",
    "for character in sentence:\n",
    "    #Check if character is vowel\n",
    "    if character in vowels:\n",
    "        vowel_counting = vowel_counting + 1\n",
    "#Print The number of vowels\n",
    "print(vowel_counting)\n"
   ]
  },
  {
   "cell_type": "code",
   "execution_count": null,
   "id": "1ce5b9ac-31b6-42b0-b55c-c48f3328c350",
   "metadata": {},
   "outputs": [],
   "source": [
    "#Show a string\n",
    "string2=\"pwskills\"\n",
    "# Reversed the string\n",
    "reversed_string=[::-1]\n",
    "#Above code start from last and end at 1st position due to negative indexing\n",
    "print(reversed_string)"
   ]
  },
  {
   "cell_type": "code",
   "execution_count": null,
   "id": "6ed98c9d-7159-40db-82be-3c7fd744b368",
   "metadata": {},
   "outputs": [],
   "source": [
    "#Take input from the user as string in lowercase\n",
    "user_input=input(\"Please enter a palindrome string word in lowercase: \")\n",
    "palindrome_string=[::-1]\n",
    "print(palindrome_string)"
   ]
  },
  {
   "cell_type": "code",
   "execution_count": null,
   "id": "37aaf9b5-572d-4697-a50f-8e4e00509904",
   "metadata": {},
   "outputs": [],
   "source": [
    "#Take the input from the user as string\n",
    "user_string=input(\"Please enter a string : \")\n",
    "#Remove the spaces from the string by using replace() function\n",
    "new_string=user_string.replace(\" \",\"\")\n",
    "print(new_string)"
   ]
  }
 ],
 "metadata": {
  "kernelspec": {
   "display_name": "Python 3 (ipykernel)",
   "language": "python",
   "name": "python3"
  },
  "language_info": {
   "codemirror_mode": {
    "name": "ipython",
    "version": 3
   },
   "file_extension": ".py",
   "mimetype": "text/x-python",
   "name": "python",
   "nbconvert_exporter": "python",
   "pygments_lexer": "ipython3",
   "version": "3.10.8"
  }
 },
 "nbformat": 4,
 "nbformat_minor": 5
}
